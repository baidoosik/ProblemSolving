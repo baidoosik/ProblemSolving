{
 "cells": [
  {
   "cell_type": "markdown",
   "metadata": {},
   "source": [
    "## 2.1 비정렬 연결 리스트에서 중복 문자열을 제거하는 코드를 작성하라.\n",
    "\n",
    "\n",
    "## 2.1 + 임시 버퍼를 사용할 수 없는 경우"
   ]
  },
  {
   "cell_type": "code",
   "execution_count": 5,
   "metadata": {},
   "outputs": [],
   "source": [
    "class Node:\n",
    "    def __init__(self, value, next_node):\n",
    "        self.value = value\n",
    "        self.next = next_node\n"
   ]
  },
  {
   "cell_type": "code",
   "execution_count": 6,
   "metadata": {},
   "outputs": [],
   "source": [
    "class LinkedList:\n",
    "    def __init__(self):\n",
    "        self.head = Node(None, None)\n",
    "        self.cur = None\n",
    "        \n",
    "    def add(self, value):\n",
    "        self.cur = self.head\n",
    "        while self.cur.next is not None:\n",
    "            self.cur = self.cur.next\n",
    "        self.cur.next = Node(value, None)\n",
    "    \n",
    "    def _remove(self, cur):\n",
    "        cur.next = cur.next.next\n",
    "    \n",
    "    def remove(self, value):\n",
    "        self.cur = self.head\n",
    "        while self.cur.next is not None:\n",
    "            if self.cur.next.value == value:\n",
    "                self._remove(self.cur)\n",
    "                return value\n",
    "            self.cur = self.cur.next\n",
    "        raise Exception(\"value not found\")\n",
    "        \n",
    "    def show_all(self):\n",
    "        self.cur = self.head.next\n",
    "        \n",
    "        while self.cur is not None:\n",
    "            print(self.cur.value)\n",
    "            self.cur = self.cur.next\n",
    "    \n",
    "    def remove_duplicate_word(self):\n",
    "        self.cur = self.head\n",
    "        temporary_buffer = {}\n",
    "        while self.cur.next is not None:\n",
    "            if temporary_buffer.get(self.cur.next.value) is not None:\n",
    "                self._remove(self.cur)\n",
    "            else:\n",
    "                temporary_buffer[self.cur.next.value] = 0\n",
    "                self.cur = self.cur.next\n",
    "    \n",
    "    # 임시 버퍼 사용 x\n",
    "    def remove_duplicate_word_without_buffer(self):\n",
    "        runner = self.head.next\n",
    "        self.cur = self.head\n",
    "        \n",
    "        while runner is not None:\n",
    "            self.cur = runner\n",
    "            while self.cur.next is not None:\n",
    "                if runner.value == self.cur.next.value:\n",
    "                    self._remove(self.cur)\n",
    "                else:\n",
    "                    self.cur = self.cur.next\n",
    "            runner = runner.next"
   ]
  },
  {
   "cell_type": "code",
   "execution_count": 12,
   "metadata": {},
   "outputs": [
    {
     "name": "stdout",
     "output_type": "stream",
     "text": [
      "0\n",
      "1\n",
      "2\n",
      "3\n",
      "4\n",
      "5\n",
      "6\n",
      "7\n",
      "8\n",
      "9\n",
      "randoms: [1, 6, 1, 1, 8, 2, 2]\n",
      "1\n",
      "6\n",
      "1\n",
      "1\n",
      "8\n",
      "2\n",
      "2\n"
     ]
    }
   ],
   "source": [
    "# add 함수 테스트\n",
    "import random\n",
    "\n",
    "my_linked_list = LinkedList()\n",
    "for i in range(10):\n",
    "    my_linked_list.add(i)\n",
    "    \n",
    "my_linked_list.show_all()\n",
    "\n",
    "my_linked_list2 = LinkedList()\n",
    "\n",
    "randoms = random.choices([i for i in range(10)], k=7)\n",
    "\n",
    "for i in randoms:\n",
    "    my_linked_list2.add(i)\n",
    "\n",
    "print(\"randoms: {}\".format(randoms))\n",
    "my_linked_list2.show_all()"
   ]
  },
  {
   "cell_type": "code",
   "execution_count": 13,
   "metadata": {},
   "outputs": [
    {
     "name": "stdout",
     "output_type": "stream",
     "text": [
      "testcase:[0, 1, 2, 3, 4, 5, 6, 8, 9]\n",
      "0\n",
      "1\n",
      "2\n",
      "3\n",
      "4\n",
      "5\n",
      "6\n",
      "8\n",
      "9\n"
     ]
    }
   ],
   "source": [
    "# remove 함수 테스트\n",
    "\n",
    "my_linked_list = LinkedList()\n",
    "testcase = [i for i in range(10)]\n",
    "for i in testcase:\n",
    "    my_linked_list.add(i)\n",
    "\n",
    "testcase.remove(7)\n",
    "my_linked_list.remove(7)\n",
    "\n",
    "print(\"testcase:{}\".format(testcase))\n",
    "my_linked_list.show_all()"
   ]
  },
  {
   "cell_type": "code",
   "execution_count": 14,
   "metadata": {},
   "outputs": [
    {
     "name": "stdout",
     "output_type": "stream",
     "text": [
      "expected:['a', 'b', 'h', 'l', 'v', 'w']\n",
      "a\n",
      "b\n",
      "h\n",
      "l\n",
      "v\n",
      "w\n"
     ]
    }
   ],
   "source": [
    "# 중복 문자열 제거 using 임시 버퍼\n",
    "\n",
    "my_linked_list = LinkedList()\n",
    "testcase = ['a', 'b', 'b','a','h','l','b','v','w','v']\n",
    "expected = ['a', 'b', 'h', 'l','v','w']\n",
    "for i in testcase:\n",
    "    my_linked_list.add(i)\n",
    "\n",
    "print(\"expected:{}\".format(expected))\n",
    "my_linked_list.remove_duplicate_word()\n",
    "\n",
    "my_linked_list.show_all()\n",
    "\n"
   ]
  },
  {
   "cell_type": "code",
   "execution_count": 15,
   "metadata": {},
   "outputs": [
    {
     "name": "stdout",
     "output_type": "stream",
     "text": [
      "expected:['a', 'b', 'h', 'l', 'v', 'w']\n",
      "a\n",
      "b\n",
      "h\n",
      "l\n",
      "v\n",
      "w\n"
     ]
    }
   ],
   "source": [
    "# 중복 문자열 제거 using 임시 버퍼\n",
    "\n",
    "my_linked_list = LinkedList()\n",
    "testcase = ['a', 'b', 'b','a','h','l','b','v','w','v']\n",
    "expected = ['a', 'b', 'h', 'l','v','w']\n",
    "for i in testcase:\n",
    "    my_linked_list.add(i)\n",
    "\n",
    "print(\"expected:{}\".format(expected))\n",
    "my_linked_list.remove_duplicate_word_without_buffer()\n",
    "\n",
    "my_linked_list.show_all()"
   ]
  },
  {
   "cell_type": "code",
   "execution_count": null,
   "metadata": {},
   "outputs": [],
   "source": []
  },
  {
   "cell_type": "code",
   "execution_count": null,
   "metadata": {},
   "outputs": [],
   "source": []
  }
 ],
 "metadata": {
  "kernelspec": {
   "display_name": "Python 3",
   "language": "python",
   "name": "python3"
  },
  "language_info": {
   "codemirror_mode": {
    "name": "ipython",
    "version": 3
   },
   "file_extension": ".py",
   "mimetype": "text/x-python",
   "name": "python",
   "nbconvert_exporter": "python",
   "pygments_lexer": "ipython3",
   "version": "3.6.7"
  }
 },
 "nbformat": 4,
 "nbformat_minor": 2
}
